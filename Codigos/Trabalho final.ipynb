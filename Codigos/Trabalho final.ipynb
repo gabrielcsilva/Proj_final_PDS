{
 "cells": [
  {
   "cell_type": "code",
   "execution_count": 1,
   "metadata": {},
   "outputs": [],
   "source": [
    "import mne\n",
    "import os.path as op\n",
    "import numpy as np\n",
    "from matplotlib import pyplot as plt"
   ]
  },
  {
   "cell_type": "code",
   "execution_count": 32,
   "metadata": {
    "scrolled": true
   },
   "outputs": [
    {
     "name": "stdout",
     "output_type": "stream",
     "text": [
      "Extracting EDF parameters from C:\\Users\\csilv\\Desktop\\UNB Gama\\7 Semestre\\Processamento de Sinais\\Normal_Subject_01.edf...\n",
      "EDF file detected\n",
      "Setting channel info structure...\n",
      "Creating raw.info structure...\n"
     ]
    }
   ],
   "source": [
    "data_path = op.join('C:/Users/csilv/Desktop/UNB Gama/7 Semestre/Processamento de Sinais/Normal_Subject_01.edf') #Define data_path\n",
    "raw = mne.io.read_raw_edf(data_path) #read raw data"
   ]
  },
  {
   "cell_type": "code",
   "execution_count": 37,
   "metadata": {},
   "outputs": [
    {
     "data": {
      "text/plain": [
       "<Info | 16 non-empty fields\n",
       "    bads : list | EMG, EMG1, EMG2, ECGII\n",
       "    ch_names : list | EOG1, EOG2, EOG1A1, EOG2A1, C4A1, C3A2, F3, F4, C3, ...\n",
       "    chs : list | 24 items (EEG: 24)\n",
       "    comps : list | 0 items\n",
       "    custom_ref_applied : bool | False\n",
       "    dev_head_t : Transform | 3 items\n",
       "    events : list | 0 items\n",
       "    highpass : float | 0.0 Hz\n",
       "    hpi_meas : list | 0 items\n",
       "    hpi_results : list | 0 items\n",
       "    lowpass : float | 128.0 Hz\n",
       "    meas_date : tuple | 2015-01-26 22:56:24 GMT\n",
       "    nchan : int | 24\n",
       "    proc_history : list | 0 items\n",
       "    projs : list | 0 items\n",
       "    sfreq : float | 256.0 Hz\n",
       "    acq_pars : NoneType\n",
       "    acq_stim : NoneType\n",
       "    ctf_head_t : NoneType\n",
       "    description : NoneType\n",
       "    dev_ctf_t : NoneType\n",
       "    dig : NoneType\n",
       "    experimenter : NoneType\n",
       "    file_id : NoneType\n",
       "    gantry_angle : NoneType\n",
       "    hpi_subsystem : NoneType\n",
       "    kit_system_id : NoneType\n",
       "    line_freq : NoneType\n",
       "    meas_id : NoneType\n",
       "    proj_id : NoneType\n",
       "    proj_name : NoneType\n",
       "    subject_info : NoneType\n",
       "    xplotter_layout : NoneType\n",
       ">"
      ]
     },
     "execution_count": 37,
     "metadata": {},
     "output_type": "execute_result"
    }
   ],
   "source": [
    "raw.info"
   ]
  },
  {
   "cell_type": "code",
   "execution_count": 38,
   "metadata": {},
   "outputs": [
    {
     "data": {
      "text/plain": [
       "['EOG1',\n",
       " 'EOG2',\n",
       " 'EOG1A1',\n",
       " 'EOG2A1',\n",
       " 'C4A1',\n",
       " 'C3A2',\n",
       " 'F3',\n",
       " 'F4',\n",
       " 'C3',\n",
       " 'C4',\n",
       " 'A1',\n",
       " 'A2',\n",
       " 'O1',\n",
       " 'O2',\n",
       " 'ECGII',\n",
       " 'EMG',\n",
       " 'EMG1',\n",
       " 'EMG2',\n",
       " 'EOG1A2',\n",
       " 'EOG2A2',\n",
       " 'F3A2',\n",
       " 'F4A1',\n",
       " 'O1A2',\n",
       " 'O2A1']"
      ]
     },
     "execution_count": 38,
     "metadata": {},
     "output_type": "execute_result"
    }
   ],
   "source": [
    "raw.info['ch_names']"
   ]
  },
  {
   "cell_type": "code",
   "execution_count": 39,
   "metadata": {},
   "outputs": [],
   "source": [
    "raw.info['chs'][0]['kind'] = 202\n",
    "raw.info['chs'][1]['kind'] = 202\n",
    "raw.info['chs'][2]['kind'] = 202\n",
    "raw.info['chs'][3]['kind'] = 202\n",
    "raw.info['chs'][18]['kind'] = 202\n",
    "raw.info['chs'][19]['kind'] = 202"
   ]
  },
  {
   "cell_type": "code",
   "execution_count": 40,
   "metadata": {},
   "outputs": [
    {
     "data": {
      "text/plain": [
       "<Info | 16 non-empty fields\n",
       "    bads : list | EMG, EMG1, EMG2, ECGII\n",
       "    ch_names : list | EOG1, EOG2, EOG1A1, EOG2A1, C4A1, C3A2, F3, F4, C3, ...\n",
       "    chs : list | 24 items (EOG: 6, EEG: 18)\n",
       "    comps : list | 0 items\n",
       "    custom_ref_applied : bool | False\n",
       "    dev_head_t : Transform | 3 items\n",
       "    events : list | 0 items\n",
       "    highpass : float | 0.0 Hz\n",
       "    hpi_meas : list | 0 items\n",
       "    hpi_results : list | 0 items\n",
       "    lowpass : float | 128.0 Hz\n",
       "    meas_date : tuple | 2015-01-26 22:56:24 GMT\n",
       "    nchan : int | 24\n",
       "    proc_history : list | 0 items\n",
       "    projs : list | 0 items\n",
       "    sfreq : float | 256.0 Hz\n",
       "    acq_pars : NoneType\n",
       "    acq_stim : NoneType\n",
       "    ctf_head_t : NoneType\n",
       "    description : NoneType\n",
       "    dev_ctf_t : NoneType\n",
       "    dig : NoneType\n",
       "    experimenter : NoneType\n",
       "    file_id : NoneType\n",
       "    gantry_angle : NoneType\n",
       "    hpi_subsystem : NoneType\n",
       "    kit_system_id : NoneType\n",
       "    line_freq : NoneType\n",
       "    meas_id : NoneType\n",
       "    proj_id : NoneType\n",
       "    proj_name : NoneType\n",
       "    subject_info : NoneType\n",
       "    xplotter_layout : NoneType\n",
       ">"
      ]
     },
     "execution_count": 40,
     "metadata": {},
     "output_type": "execute_result"
    }
   ],
   "source": [
    "raw.info"
   ]
  },
  {
   "cell_type": "code",
   "execution_count": 41,
   "metadata": {},
   "outputs": [],
   "source": [
    "raw.info['bads'] = ['EMG', 'EMG1', 'EMG2', 'ECGII']"
   ]
  },
  {
   "cell_type": "code",
   "execution_count": 42,
   "metadata": {},
   "outputs": [],
   "source": [
    "picks = mne.pick_types(raw.info, eeg=True, eog= True, exclude = raw.info['bads'])"
   ]
  },
  {
   "cell_type": "code",
   "execution_count": 43,
   "metadata": {},
   "outputs": [
    {
     "name": "stdout",
     "output_type": "stream",
     "text": [
      "Effective window size : 8.000 (s)\n"
     ]
    },
    {
     "name": "stderr",
     "output_type": "stream",
     "text": [
      "<ipython-input-43-b195ff049d2b>:1: RuntimeWarning: Channel locations not available. Disabling spatial colors.\n",
      "  without_filter = raw.plot_psd(area_mode='range', picks=picks, average=False)\n"
     ]
    },
    {
     "data": {
      "image/png": "[encoded data removed]",
      "text/plain": [
       "<Figure size 432x288 with 1 Axes>"
      ]
     },
     "metadata": {},
     "output_type": "display_data"
    }
   ],
   "source": [
    "without_filter = raw.plot_psd(area_mode='range', picks=picks, average=False)"
   ]
  },
  {
   "cell_type": "code",
   "execution_count": null,
   "metadata": {},
   "outputs": [],
   "source": [
    "raw.load_data()\n",
    "raw.notch_filter(np.arange(50, 100, 50), picks=picks, fir_design='firwin') #notch filter at 50, 100, 150 and 200"
   ]
  },
  {
   "cell_type": "code",
   "execution_count": null,
   "metadata": {},
   "outputs": [],
   "source": [
    "notch_filter = raw.plot_psd(area_mode='range', picks=picks, average=False, tmax=10.0)"
   ]
  },
  {
   "cell_type": "code",
   "execution_count": null,
   "metadata": {},
   "outputs": [],
   "source": [
    "raw.filter(None, 40., picks=picks, fir_design='firwin') # low pass filtering below 40 Hz'\n",
    "low_pass_filter = raw.plot_psd(area_mode='range', picks=picks, average=False, tmax=10.0)"
   ]
  },
  {
   "cell_type": "code",
   "execution_count": null,
   "metadata": {},
   "outputs": [],
   "source": [
    "raw.filter(1., None, picks=picks, fir_design='firwin') #high pass filtering above 1Hz\n",
    "high_pass_filter = raw.plot_psd(area_mode='range', picks=picks, average=False, tmax=10.0)"
   ]
  },
  {
   "cell_type": "code",
   "execution_count": null,
   "metadata": {},
   "outputs": [],
   "source": [
    "baseline = (None) #define baseline for data\n",
    "events = mne.find_events(raw) #Search for all events\n",
    "epochs = mne.Epochs(raw, events, picks=picks) #Define trials"
   ]
  }
 ],
 "metadata": {
  "kernelspec": {
   "display_name": "Python 3",
   "language": "python",
   "name": "python3"
  },
  "language_info": {
   "codemirror_mode": {
    "name": "ipython",
    "version": 3
   },
   "file_extension": ".py",
   "mimetype": "text/x-python",
   "name": "python",
   "nbconvert_exporter": "python",
   "pygments_lexer": "ipython3",
   "version": "3.6.5"
  }
 },
 "nbformat": 4,
 "nbformat_minor": 2
}
