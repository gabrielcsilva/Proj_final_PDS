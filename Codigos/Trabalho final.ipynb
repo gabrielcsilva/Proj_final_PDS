{
 "cells": [
  {
   "cell_type": "code",
   "execution_count": null,
   "metadata": {},
   "outputs": [],
   "source": [
    "import mne\n",
    "import os.path as op\n",
    "import numpy as np\n",
    "from matplotlib import pyplot as plt"
   ]
  },
  {
   "cell_type": "code",
   "execution_count": null,
   "metadata": {
    "scrolled": true
   },
   "outputs": [],
   "source": [
    "#data_path = op.join('C:/Users/csilv/Desktop/UNB Gama/7 Semestre/Processamento de Sinais/Normal_Subject_01.edf') #Define data_path\n",
    "#data_path = op.join('D:/My Drive/Estudos/Engenharia Eletrônica - UnB/7º semestre/Processamento de Sinais/Projeto Final/Dataset/Normal_Subject_01.edf')\n",
    "data_path = op.join('C:/Users/ASUS/OneDrive/UnB/7º semestre/Processamento de Sinais/Normal_Subject_01.edf')\n",
    "raw = mne.io.read_raw_edf(data_path) #read raw data"
   ]
  },
  {
   "cell_type": "code",
   "execution_count": null,
   "metadata": {},
   "outputs": [],
   "source": [
    "raw.info['chs'][0]['kind'] = 202\n",
    "raw.info['chs'][1]['kind'] = 202\n",
    "raw.info['chs'][2]['kind'] = 202\n",
    "raw.info['chs'][3]['kind'] = 202\n",
    "raw.info['chs'][18]['kind'] = 202\n",
    "raw.info['chs'][19]['kind'] = 202"
   ]
  },
  {
   "cell_type": "code",
   "execution_count": null,
   "metadata": {},
   "outputs": [],
   "source": [
    "raw.info['bads'] = ['EMG', 'EMG1', 'EMG2', 'ECGII']"
   ]
  },
  {
   "cell_type": "code",
   "execution_count": null,
   "metadata": {},
   "outputs": [],
   "source": [
    "picks = mne.pick_types(raw.info, eeg=True, eog= True, exclude = raw.info['bads'])"
   ]
  },
  {
   "cell_type": "code",
   "execution_count": null,
   "metadata": {
    "scrolled": true
   },
   "outputs": [],
   "source": [
    "without_filter = raw.plot_psd(fmax = 60)"
   ]
  },
  {
   "cell_type": "code",
   "execution_count": null,
   "metadata": {},
   "outputs": [],
   "source": [
    "raw.load_data()\n",
    "raw.notch_filter(np.arange(50, 100, 50), picks=picks, fir_design='firwin') #notch filter at 50, 100, 150 and 200"
   ]
  },
  {
   "cell_type": "code",
   "execution_count": null,
   "metadata": {},
   "outputs": [],
   "source": [
    "#notch_filter = raw.plot_psd(area_mode='range', picks=picks, average=False, tmax=10.0)"
   ]
  },
  {
   "cell_type": "code",
   "execution_count": null,
   "metadata": {},
   "outputs": [],
   "source": [
    "raw.filter(None, 40., picks=picks, fir_design='firwin') # low pass filtering below 40 Hz'\n",
    "#low_pass_filter = raw.plot_psd(area_mode='range', picks=picks, average=False, tmax=10.0)"
   ]
  },
  {
   "cell_type": "code",
   "execution_count": null,
   "metadata": {},
   "outputs": [],
   "source": [
    "raw.filter(1., None, picks=picks, fir_design='firwin') #high pass filtering above 1Hz\n",
    "#high_pass_filter = raw.plot_psd(area_mode='range', picks=picks, average=False, tmax=10.0)"
   ]
  },
  {
   "cell_type": "code",
   "execution_count": null,
   "metadata": {},
   "outputs": [],
   "source": [
    "raw.info['ch_names']"
   ]
  },
  {
   "cell_type": "code",
   "execution_count": null,
   "metadata": {},
   "outputs": [],
   "source": [
    "events = mne.make_fixed_length_events(raw, duration = 30.)"
   ]
  },
  {
   "cell_type": "code",
   "execution_count": null,
   "metadata": {},
   "outputs": [],
   "source": [
    "reject = dict(eeg = 150e-6, eog = 250e-6)"
   ]
  },
  {
   "cell_type": "code",
   "execution_count": null,
   "metadata": {},
   "outputs": [],
   "source": [
    "epochs = mne.Epochs(raw, events=events, picks=picks, reject=None, preload=True, tmin=-1.5, tmax=1.5) #Define trials"
   ]
  },
  {
   "cell_type": "code",
   "execution_count": null,
   "metadata": {},
   "outputs": [],
   "source": [
    "top = epochs[4].plot(picks=['EOG1A1', 'EOG1A2', 'EOG2A1', 'EOG2A2', 'EOG1', 'EOG2'])"
   ]
  },
  {
   "cell_type": "code",
   "execution_count": null,
   "metadata": {},
   "outputs": [],
   "source": [
    "# 1. Decompose the data onto a set of components (i.e., rotate to new axes) using a BSS algorithm.\n",
    "\n",
    "no_plot = epochs[4].plot(picks=['F3', 'F4', 'C3', 'C4'])"
   ]
  },
  {
   "cell_type": "code",
   "execution_count": null,
   "metadata": {},
   "outputs": [],
   "source": [
    "toSobi = epochs[4].get_data()"
   ]
  },
  {
   "cell_type": "code",
   "execution_count": null,
   "metadata": {},
   "outputs": [],
   "source": [
    "toSobi.shape"
   ]
  },
  {
   "cell_type": "code",
   "execution_count": null,
   "metadata": {},
   "outputs": [],
   "source": [
    "# %load sobi.py\n",
    "import numpy as np\n",
    "import itertools\n",
    "import random\n",
    "\n",
    "def time_lagged_cov(X, num_lags):\n",
    "\n",
    "    N = X.shape[0]\n",
    "    L = X.shape[1] - num_lags\n",
    "    R = np.empty([num_lags,N,N])\n",
    "\n",
    "    center = lambda x: x-x.mean(1)[:,None]\n",
    "\n",
    "    X0 = center(X[:, 0:(0+L)])\n",
    "    \n",
    "    for k in range(num_lags):\n",
    "        Xk = center(X[:,k:(k+L)])\n",
    "        R[k] = (1.0/L)*(X0.dot(Xk.T))\n",
    "        R[k] = 0.5*(R[k] + R[k].T)\n",
    "\n",
    "    return R\n",
    "\n",
    "\n",
    "def prewhiten(X):\n",
    "\n",
    "    # subtract mean\n",
    "    Xw = X - X.mean(1)[:, None]\n",
    "\n",
    "    # Compute SVD\n",
    "    U,s,V = np.linalg.svd(Xw, full_matrices=False)\n",
    "    Sinv = np.linalg.pinv(np.diag(s))\n",
    "\n",
    "    # Find principal components\n",
    "    Q  = np.dot(Sinv, U.T)\n",
    "    Xw = Q.dot(X)\n",
    "\n",
    "    return Q, Xw\n",
    "\n",
    "\n",
    "def submat_mul(X, i, j, R, multype='post'):\n",
    "\n",
    "    if multype.lower() == 'post':\n",
    "        idx_i = (..., i)\n",
    "        idx_j = (..., j)\n",
    "    elif multype.lower() == 'pre':\n",
    "        idx_i = (..., i, slice(None))\n",
    "        idx_j = (..., j, slice(None))\n",
    "\n",
    "     # In place multiplication X*R\n",
    "    col_i = X[idx_i]*1.0\n",
    "    col_j = X[idx_j]*1.0\n",
    "    X[idx_i] = R[0,0]*col_i + R[0,1]*col_j\n",
    "    X[idx_j] = R[1,0]*col_i + R[1,1]*col_j\n",
    "\n",
    "    return X\n",
    "\n",
    "def max_eigvec(A):\n",
    "    # Find eigenvector associated with largest eigenvalue\n",
    "    [eigvals,v] = np.linalg.eigh(A)\n",
    "    v = v[:,-1]\n",
    "    return v\n",
    "\n",
    "def generate_index_pairs(idx_range, random_order=True):\n",
    "    ij_pairs = itertools.combinations(idx_range, 2)\n",
    "    ij_pairs = list(ij_pairs)\n",
    "    if random_order:\n",
    "        random.shuffle(ij_pairs)\n",
    "    \n",
    "    return ij_pairs\n",
    "\n",
    "def off(X):\n",
    "    off_ = 0\n",
    "    for x in X:\n",
    "        off_ += (np.linalg.norm(x,ord='fro')**2 - np.linalg.norm(np.diag(x))**2)\n",
    "\n",
    "    return off_/np.max(X)\n",
    "\n",
    "def jd(X, eps=1.0e-6, random_order = True):\n",
    "\n",
    "    \"\"\"jointly diagonalize several matrices.\n",
    "\n",
    "    Performs jacobi-like procedure to approximately diagonalize\n",
    "    a set of matrices X\n",
    "\n",
    "    Parameters\n",
    "    ----------\n",
    "    X : np.ndarray\n",
    "        Has dimensions [num_matrices, num_rows, num_cols]\n",
    "    eps : scalar, optional\n",
    "        Stopping criterion based on eps tolerance, should be between 0 and infinity\n",
    "    random_order : bool, optional\n",
    "        If True, pivots will cycle randomly for givens rotations.\n",
    "        May affect convergence rate but not the final soltuion\n",
    "\n",
    "    Returns\n",
    "    -------\n",
    "    V : np.ndarray\n",
    "        2D array containing diagonalizing transformation\n",
    "        i.e. (V.T).dot( X ).dot( V ) will be approximately diagonal\n",
    "    \n",
    "    \"\"\"\n",
    "\n",
    "    X = np.atleast_3d(X)\n",
    "    V = np.eye(X.shape[1])\n",
    "\n",
    "    keep_going = True\n",
    "    counter = 0\n",
    "    off_val = []\n",
    "    while keep_going:\n",
    "        print('{}: {}'.format(counter, off(X)))\n",
    "        counter += 1\n",
    "        keep_going = False\n",
    "\n",
    "        ij_pairs = generate_index_pairs(range(X.shape[1]), \n",
    "                                        random_order = random_order)\n",
    "        \n",
    "        for (i,j) in ij_pairs:\n",
    "            # Extract submatrix\n",
    "            idx = (slice(None), ) + np.ix_([i,j],[i,j])\n",
    "            A = X[idx]*1.0\n",
    "\n",
    "            # Find givens rotation matrix\n",
    "            R = find_givens_rotation(A)\n",
    "\n",
    "            if abs(R[0,1]) > eps: # sin_theta = R[0,1]\n",
    "                keep_going = True \n",
    "                # Update X and V matrices\n",
    "\n",
    "                # X' = R^T X R\n",
    "                X = submat_mul(X, i, j, R, multype='post')\n",
    "                X = submat_mul(X, i, j, R, multype='pre')\n",
    "\n",
    "                # V = V R\n",
    "                V = submat_mul(V, i, j, R, multype='post')\n",
    "\n",
    "    return V\n",
    "\n",
    "def find_givens_rotation(A):\n",
    "\n",
    "    \"\"\"\n",
    "    Belouchrani, A., et al. “A Blind Source Separation Technique Using \n",
    "    Second-Order Statistics.” IEEE Transactions on Signal Processing: \n",
    "    A Publication of the IEEE Signal Processing Society, vol. 45, \n",
    "    no. 2, Feb. 1997, pp. 434–44, doi:10.1109/78.554307.\n",
    "\n",
    "    See Appendix A\n",
    "    \"\"\"\n",
    "    G   = np.array( [ A[:,0,0] - A[:,1,1], A[:,0,1] + A[:,1,0] ] )\n",
    "    G   = np.atleast_2d(G).T\n",
    "    GHG = np.dot(G.T, G)\n",
    "    v = max_eigvec(GHG)\n",
    "    \n",
    "    v = np.sign(v[0])*v\n",
    "    cos_theta = np.sqrt(0.5 + 0.5*v[0])\n",
    "    sin_theta = -0.5*v[1]/(cos_theta)\n",
    "\n",
    "    R = np.array([[ cos_theta,  -sin_theta],\n",
    "                    [ sin_theta, cos_theta]])\n",
    "\n",
    "    return R\n",
    "\n",
    "def sobi(X, num_lags=None, eps=1.0e-6, random_order = True):\n",
    "\n",
    "    \"\"\"blind source separation technique using SOBI algorithm\n",
    "\n",
    "    The \"second-order blind source idenitification\" algorithm is \n",
    "    a blind-source separation technique that works by jointly diagonalizing\n",
    "    a set of time-lagged covariance matrices. \n",
    "\n",
    "    Parameters\n",
    "    ----------\n",
    "    X : np.ndarray\n",
    "        Has dimensions [num_signals, num_samples]\n",
    "    num_lags : int\n",
    "        Number of time-lags to use in forming covariance matrices\n",
    "    eps : scalar, optional\n",
    "        Stopping criterion based on eps tolerance, should be between 0 and infinity\n",
    "    random_order : bool, optional\n",
    "        If True, pivots will cycle randomly for givens rotations.\n",
    "        May affect convergence rate but not the final soltuion\n",
    "\n",
    "    Returns\n",
    "    -------\n",
    "    S : np.ndarray\n",
    "        2D array containing estimated source signals\n",
    "    \n",
    "    A : np.ndarray\n",
    "        2D array containing mixing matrix\n",
    "        i.e. A.dot(S) = X\n",
    "    \n",
    "    W : np.ndarray\n",
    "        2D array containing unmixing matrix\n",
    "        i.e. W.dot(X) = S\n",
    "    \n",
    "    \"\"\"\n",
    "\n",
    "    if num_lags is None:\n",
    "        num_lags = np.minimum(1000, int(X.shape[1]/2))\n",
    "\n",
    "    Q, Xw = prewhiten(X)\n",
    "\n",
    "    R = time_lagged_cov(Xw, num_lags)\n",
    "\n",
    "    V = jd(R*1.0, eps=eps)\n",
    "\n",
    "    W = (V.T).dot(Q)\n",
    "    A = np.linalg.pinv(W)\n",
    "    S = W.dot(X)\n",
    "\n",
    "    return S, A, W\n",
    "\n",
    "\n",
    "    \n",
    "    \n",
    "\n",
    "\n"
   ]
  },
  {
   "cell_type": "code",
   "execution_count": null,
   "metadata": {},
   "outputs": [],
   "source": [
    "[S, A, W] = sobi(toSobi[0])"
   ]
  },
  {
   "cell_type": "code",
   "execution_count": null,
   "metadata": {},
   "outputs": [],
   "source": [
    "S.shape"
   ]
  },
  {
   "cell_type": "code",
   "execution_count": null,
   "metadata": {},
   "outputs": [],
   "source": [
    "plt.plot(S[6])"
   ]
  },
  {
   "cell_type": "code",
   "execution_count": null,
   "metadata": {},
   "outputs": [],
   "source": [
    "plt.plot(toSobi[0][6])"
   ]
  },
  {
   "cell_type": "code",
   "execution_count": null,
   "metadata": {},
   "outputs": [],
   "source": [
    "# 2. Reverse the sign on all lower and horizontal EOG channels (i.e., multiply signals by  1)\n",
    "# and again decompose data onto components using a BSS algorithm. Flag those components that invert.\n",
    "\n",
    "epochs.ch_names"
   ]
  },
  {
   "cell_type": "code",
   "execution_count": null,
   "metadata": {},
   "outputs": [],
   "source": [
    "EOG_ch=[0, 1, 2, 3, 14, 15]"
   ]
  },
  {
   "cell_type": "code",
   "execution_count": null,
   "metadata": {},
   "outputs": [],
   "source": [
    "EOG_ch.type"
   ]
  },
  {
   "cell_type": "code",
   "execution_count": null,
   "metadata": {},
   "outputs": [],
   "source": [
    "for n in EOG_ch:\n",
    "    print(epochs.ch_names[n])"
   ]
  },
  {
   "cell_type": "code",
   "execution_count": null,
   "metadata": {},
   "outputs": [],
   "source": [
    "inv_EOG=epochs[4].get_data()"
   ]
  },
  {
   "cell_type": "code",
   "execution_count": null,
   "metadata": {},
   "outputs": [],
   "source": [
    "inv_EOG.shape"
   ]
  },
  {
   "cell_type": "code",
   "execution_count": null,
   "metadata": {},
   "outputs": [],
   "source": [
    "inv_EOG[0][EOG_ch] = -inv_EOG[0][EOG_ch]"
   ]
  },
  {
   "cell_type": "code",
   "execution_count": null,
   "metadata": {},
   "outputs": [],
   "source": [
    "[S_new, A_new, W_new] = sobi(inv_EOG[0])"
   ]
  },
  {
   "cell_type": "code",
   "execution_count": null,
   "metadata": {},
   "outputs": [],
   "source": [
    "plt.plot(S_new[6])\n"
   ]
  },
  {
   "cell_type": "code",
   "execution_count": null,
   "metadata": {},
   "outputs": [],
   "source": [
    "plt.plot(inv_EOG[0][6])"
   ]
  },
  {
   "cell_type": "markdown",
   "metadata": {},
   "source": [
    "CORRELATION"
   ]
  },
  {
   "cell_type": "code",
   "execution_count": null,
   "metadata": {},
   "outputs": [],
   "source": [
    "#será utilizado a função de correlação do scipy\n",
    "from scipy import signal\n",
    "import matplotlib.pyplot as plt"
   ]
  },
  {
   "cell_type": "code",
   "execution_count": null,
   "metadata": {},
   "outputs": [],
   "source": [
    "raw.info['ch_names']"
   ]
  },
  {
   "cell_type": "code",
   "execution_count": null,
   "metadata": {},
   "outputs": [],
   "source": [
    "EOG = np.zeros((6,769),dtype= float) #Lista de EOG\n",
    "EOG[0] = S_new[0]\n",
    "EOG[1] = S_new[1]\n",
    "EOG[2] = S_new[2]\n",
    "EOG[3] = S_new[3]\n",
    "EOG[4] = S_new[14]\n",
    "EOG[5] = S_new[15]"
   ]
  },
  {
   "cell_type": "code",
   "execution_count": null,
   "metadata": {},
   "outputs": [],
   "source": [
    "COMP = np.zeros((14,769), dtype = float) #Lista dos outros componentes\n",
    "COMP[0] = S_new[4]\n",
    "COMP[1] = S_new[5]\n",
    "COMP[2] = S_new[6]\n",
    "COMP[3] = S_new[7]\n",
    "COMP[4] = S_new[8]\n",
    "COMP[5] = S_new[9]\n",
    "COMP[6] = S_new[10]\n",
    "COMP[7] = S_new[11]\n",
    "COMP[8] = S_new[12]\n",
    "COMP[9] = S_new[13]\n",
    "COMP[10] = S_new[16]\n",
    "COMP[11] = S_new[17]\n",
    "COMP[12] = S_new[18]\n",
    "COMP[13] = S_new[19]\n"
   ]
  },
  {
   "cell_type": "code",
   "execution_count": null,
   "metadata": {},
   "outputs": [],
   "source": [
    "x = signal.correlate(COMP[0], EOG[0], 'same')\n",
    "x.shape"
   ]
  },
  {
   "cell_type": "code",
   "execution_count": null,
   "metadata": {},
   "outputs": [],
   "source": [
    "corr_eog1 = np.zeros((14,769), dtype = float)\n",
    "for i in range(14):\n",
    "    corr_eog1[i] = signal.correlate(EOG[0], COMP[i], mode = 'same')"
   ]
  },
  {
   "cell_type": "code",
   "execution_count": null,
   "metadata": {},
   "outputs": [],
   "source": [
    "corr_eog2 = np.zeros((14,769), dtype = float)\n",
    "for i in range(14):\n",
    "    corr_eog2[i] = signal.correlate(EOG[1], COMP[i], mode = 'same')"
   ]
  },
  {
   "cell_type": "code",
   "execution_count": null,
   "metadata": {},
   "outputs": [],
   "source": [
    "corr_eog1a1 = np.zeros((14,769), dtype = float)\n",
    "for i in range(14):\n",
    "    corr_eog1a1[i] = signal.correlate(EOG[2], COMP[i], mode = 'same')"
   ]
  },
  {
   "cell_type": "code",
   "execution_count": null,
   "metadata": {},
   "outputs": [],
   "source": [
    "corr_eog1a2 = np.zeros((14,769), dtype = float)\n",
    "for i in range(14):\n",
    "    corr_eog1a2[i] = signal.correlate(EOG[3], COMP[i], mode = 'same')"
   ]
  },
  {
   "cell_type": "code",
   "execution_count": null,
   "metadata": {},
   "outputs": [],
   "source": [
    "corr_eog2a1 = np.zeros((14,769), dtype = float)\n",
    "for i in range(14):\n",
    "    corr_eog2a1[i] = signal.correlate(EOG[4], COMP[i], mode = 'same')"
   ]
  },
  {
   "cell_type": "code",
   "execution_count": null,
   "metadata": {},
   "outputs": [],
   "source": [
    "corr_eog2a2 = np.zeros((14,769), dtype = float)\n",
    "for i in range(14):\n",
    "    corr_eog2a2[i] = signal.correlate(EOG[5], COMP[i], mode = 'same')"
   ]
  },
  {
   "cell_type": "code",
   "execution_count": null,
   "metadata": {},
   "outputs": [],
   "source": [
    "CORRELATION = np.zeros((84,769), dtype = float) #Lista de cross correlation\n",
    "t = np.arange(0,769,1)\n",
    "#fig, (correlation1,correlation2,correlation3, correlation4, correlation5, correlation6 ) = plt.subplots(6, 1, sharex=True, figsize=[15, 30])\n",
    "for i in range(6):\n",
    "    for k in range(14):\n",
    "        if i == 0:\n",
    "            CORRELATION[k] = signal.correlate(EOG[i], COMP[k], mode = 'same')\n",
    "            #correlation1.plot(t, CORRELATION[k])\n",
    "        if i == 1:\n",
    "            CORRELATION[14 + k] = signal.correlate(EOG[i], COMP[k], mode = 'same')\n",
    "            #correlation2.plot(t, CORRELATION[14 + k])\n",
    "        if i == 2:\n",
    "            CORRELATION[28 + k] = signal.correlate(EOG[i], COMP[k], mode = 'same')\n",
    "            #correlation3.plot(t, CORRELATION[28 + k])\n",
    "        if i == 3:\n",
    "            CORRELATION[42 + k] = signal.correlate(EOG[i], COMP[k], mode = 'same')\n",
    "            #correlation4.plot(t, CORRELATION[42 + k])\n",
    "        if i == 4:\n",
    "            CORRELATION[56 + k] = signal.correlate(EOG[i], COMP[k], mode = 'same')\n",
    "            #correlation5.plot(t, CORRELATION[56 + k])\n",
    "        if i == 5:\n",
    "            CORRELATION[70 + k] = signal.correlate(EOG[i], COMP[k], mode = 'same')\n",
    "            #correlation6.plot(t, CORRELATION[70 + k])"
   ]
  },
  {
   "cell_type": "code",
   "execution_count": null,
   "metadata": {},
   "outputs": [],
   "source": [
    "fig = plt.figure(figsize = [12, 18])\n",
    "fig.subplots_adjust(hspace = 0.4, wspace = 0.4)\n",
    "for i in range(1, 15):\n",
    "    ax = fig.add_subplot(7, 2, i)\n",
    "    ax.plot(corr_eog1[i-1])"
   ]
  },
  {
   "cell_type": "code",
   "execution_count": null,
   "metadata": {},
   "outputs": [],
   "source": [
    "fig = plt.figure(figsize = [12, 18])\n",
    "fig.subplots_adjust(hspace = 0.4, wspace = 0.4)\n",
    "for i in range(1, 15):\n",
    "    ax = fig.add_subplot(7, 2, i)\n",
    "    ax.plot(corr_eog2[i-1])"
   ]
  },
  {
   "cell_type": "code",
   "execution_count": null,
   "metadata": {},
   "outputs": [],
   "source": [
    "fig = plt.figure(figsize = [12, 18])\n",
    "fig.subplots_adjust(hspace = 0.4, wspace = 0.4)\n",
    "for i in range(1, 15):\n",
    "    ax = fig.add_subplot(7, 2, i)\n",
    "    ax.plot(t, CORRELATION[28 + i])"
   ]
  },
  {
   "cell_type": "code",
   "execution_count": null,
   "metadata": {},
   "outputs": [],
   "source": [
    "fig = plt.figure(figsize = [12, 18])\n",
    "fig.subplots_adjust(hspace = 0.4, wspace = 0.4)\n",
    "for i in range(1, 15):\n",
    "    ax = fig.add_subplot(7, 2, i)\n",
    "    ax.plot(t, CORRELATION[42 + i])"
   ]
  },
  {
   "cell_type": "code",
   "execution_count": null,
   "metadata": {},
   "outputs": [],
   "source": [
    "for i in range(14):\n",
    "    print(max(abs(corr_eog1[i])))"
   ]
  },
  {
   "cell_type": "code",
   "execution_count": null,
   "metadata": {},
   "outputs": [],
   "source": [
    "x = np.diff(corr_eog2a1[3])\n",
    "rms = np.sqrt(np.mean(x**2))\n",
    "rms"
   ]
  },
  {
   "cell_type": "code",
   "execution_count": null,
   "metadata": {},
   "outputs": [],
   "source": [
    "corr.eog1"
   ]
  },
  {
   "cell_type": "code",
   "execution_count": null,
   "metadata": {},
   "outputs": [],
   "source": [
    "COMP[0] = 0"
   ]
  }
 ],
 "metadata": {
  "kernelspec": {
   "display_name": "Python 3",
   "language": "python",
   "name": "python3"
  },
  "language_info": {
   "codemirror_mode": {
    "name": "ipython",
    "version": 3
   },
   "file_extension": ".py",
   "mimetype": "text/x-python",
   "name": "python",
   "nbconvert_exporter": "python",
   "pygments_lexer": "ipython3",
   "version": "3.6.5"
  }
 },
 "nbformat": 4,
 "nbformat_minor": 2
}
